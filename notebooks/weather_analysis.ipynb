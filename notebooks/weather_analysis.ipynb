{
 "cells": [
  {
   "cell_type": "code",
   "execution_count": null,
   "id": "initial_id",
   "metadata": {
    "collapsed": true
   },
   "outputs": [],
   "source": [
    "from src import data_processing as dp\n",
    "from src import read_kafka as rk\n",
    "df = rk.read_kafka_stream()\n",
    "df = df.writeStream.foreachBatch(rk.process_end_show).start()\n"
   ]
  },
  {
   "cell_type": "code",
   "execution_count": 2,
   "outputs": [
    {
     "name": "stdout",
     "output_type": "stream",
     "text": [
      "+-----+--------+--------+--------+\n",
      "|month|avg_temp|min_temp|max_temp|\n",
      "+-----+--------+--------+--------+\n",
      "|   01|   -14.4|   -36.0|     1.9|\n",
      "|   02|   -13.3|   -27.8|     4.7|\n",
      "|   03|    -3.1|   -20.3|    12.3|\n",
      "|   04|    -0.5|   -16.3|    20.2|\n",
      "|   05|    10.6|    -3.4|    29.0|\n",
      "|   06|    17.7|     6.0|    35.1|\n",
      "|   07|    20.2|    10.1|    29.5|\n",
      "|   08|    16.6|     9.0|    29.5|\n",
      "|   09|    11.0|    -1.7|    21.4|\n",
      "|   10|     5.3|    -9.2|    20.7|\n",
      "|   11|    -4.6|   -18.1|     7.0|\n",
      "|   12|   -14.8|   -36.9|     1.9|\n",
      "+-----+--------+--------+--------+\n"
     ]
    }
   ],
   "source": [
    "from src import data_analysis as da\n",
    "months_temps_df = da.analyze_temperatures(df)\n",
    "months_temps_df.show()"
   ],
   "metadata": {
    "collapsed": false,
    "ExecuteTime": {
     "end_time": "2024-02-06T23:04:01.466173600Z",
     "start_time": "2024-02-06T23:04:00.891224900Z"
    }
   },
   "id": "ab6e83c5e5194200"
  },
  {
   "cell_type": "code",
   "execution_count": null,
   "outputs": [],
   "source": [],
   "metadata": {
    "collapsed": false,
    "ExecuteTime": {
     "end_time": "2024-02-06T22:28:38.600810300Z",
     "start_time": "2024-02-06T22:28:38.537800Z"
    }
   },
   "id": "9fb886c4325aed59"
  },
  {
   "cell_type": "code",
   "execution_count": null,
   "outputs": [],
   "source": [],
   "metadata": {
    "collapsed": false
   },
   "id": "2a98f77cc0abf379"
  }
 ],
 "metadata": {
  "kernelspec": {
   "display_name": "Python 3",
   "language": "python",
   "name": "python3"
  },
  "language_info": {
   "codemirror_mode": {
    "name": "ipython",
    "version": 2
   },
   "file_extension": ".py",
   "mimetype": "text/x-python",
   "name": "python",
   "nbconvert_exporter": "python",
   "pygments_lexer": "ipython2",
   "version": "2.7.6"
  }
 },
 "nbformat": 4,
 "nbformat_minor": 5
}
